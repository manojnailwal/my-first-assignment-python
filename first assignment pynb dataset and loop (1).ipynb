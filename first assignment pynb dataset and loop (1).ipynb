{
 "cells": [
  {
   "cell_type": "markdown",
   "id": "b81df116-1078-4d71-a695-d1ef690dfc53",
   "metadata": {},
   "source": [
    "MY FISRT PW ASSIGNMENT "
   ]
  },
  {
   "cell_type": "code",
   "execution_count": 1,
   "id": "62c17eb3-7118-4e4d-8fc4-6adf3787c05a",
   "metadata": {},
   "outputs": [],
   "source": [
    "# QUS - 1 -: Explain the key features of Python that make it a popular choice for programming \n"
   ]
  },
  {
   "cell_type": "code",
   "execution_count": 2,
   "id": "bee97b1b-32dc-4762-9540-69e77ef6a0b5",
   "metadata": {},
   "outputs": [
    {
     "data": {
      "text/plain": [
       "' ANS -:\\nPython is popular choice for programming  because:\\n\\n1 - Easy to Read: The code is simple and looks like English, so it’s easy to understand.\\n2 - Very Flexible : You can use it for many things like websites, games, and analyzing data.\\n3 - Lots of Built-in Tools: Python has many tools you can use right away without extra code.\\n4 - Big Library Collection: There are many extra tools available to help with different tasks.\\n5 - Works on Any Computer: Python programs run on different operating systems like Windows, Mac, and Linux.\\n6 - Helpful Community: There are lots of people who use Python, so you can find plenty of help online.\\n7 - Easy to Debug: Python runs code one line at a time, which helps in finding and fixing mistakes.\\n8 - No Type Declarations: You don’t need to specify what type of data you’re using, which makes coding faster.\\n9 - Works with Other Languages: Python can interact with other programming languages.\\n10 - Good for Automation: It’s great for automating repetitive tasks.\\n11 - Great for Learning: It’s often used as a first language because it’s easy to learn.\\n\\n'"
      ]
     },
     "execution_count": 2,
     "metadata": {},
     "output_type": "execute_result"
    }
   ],
   "source": [
    "\"\"\" ANS -:\n",
    "Python is popular choice for programming  because:\n",
    "\n",
    "1 - Easy to Read: The code is simple and looks like English, so it’s easy to understand.\n",
    "2 - Very Flexible : You can use it for many things like websites, games, and analyzing data.\n",
    "3 - Lots of Built-in Tools: Python has many tools you can use right away without extra code.\n",
    "4 - Big Library Collection: There are many extra tools available to help with different tasks.\n",
    "5 - Works on Any Computer: Python programs run on different operating systems like Windows, Mac, and Linux.\n",
    "6 - Helpful Community: There are lots of people who use Python, so you can find plenty of help online.\n",
    "7 - Easy to Debug: Python runs code one line at a time, which helps in finding and fixing mistakes.\n",
    "8 - No Type Declarations: You don’t need to specify what type of data you’re using, which makes coding faster.\n",
    "9 - Works with Other Languages: Python can interact with other programming languages.\n",
    "10 - Good for Automation: It’s great for automating repetitive tasks.\n",
    "11 - Great for Learning: It’s often used as a first language because it’s easy to learn.\n",
    "\n",
    "\"\"\""
   ]
  },
  {
   "cell_type": "code",
   "execution_count": 3,
   "id": "00bb5731-bc8c-40c1-97f3-f36c26ac5dee",
   "metadata": {},
   "outputs": [],
   "source": [
    "# QUS - 2 -: Describe the role of predefined keywords in Python and provide examples of how they are used in a program."
   ]
  },
  {
   "cell_type": "code",
   "execution_count": 4,
   "id": "5176373f-1e04-48eb-aeed-9b7376525136",
   "metadata": {},
   "outputs": [
    {
     "data": {
      "text/plain": [
       "' # ANS -:\\n# In Python, predefined keywords are special words that have specific meanings and cannot be used for anything else, like naming variables. They are part of the language syntax and help define the structure of Python programs. Here’s a look at some of them and how they are used:\\n\\n#1. if : Used to make decisions. If a condition is true, the code inside the `if` block runs.\\n  x = 10\\n  if x > 5:\\n       print(\"x is greater than 5\")\\n\\n\\n#2. else : Used with `if` to run code when the `if` condition is false.\\n  x = 3\\n  if x > 5:\\n       print(\"x is greater than 5\")\\n  else:\\n       print(\"x is not greater than 5\")\\n\\n#3. elif: Short for \"else if\", it allows checking multiple conditions.\\n  x = 10\\n  if x > 15:\\n       print(\"x is greater than 15\")\\n  elif x > 5:\\n       print(\"x is greater than 5 but not greater than 15\")\\n  else:\\n       print(\"x is 5 or less\")\\n\\n#4. for: Used to create loops that iterate over a sequence, like a list or range of numbers.\\n  for i in range(5):\\n      print(i)\\n\\n#5. while: Used to create loops that run as long as a condition is true.\\n  count = 0\\n  while count < 5:\\n       print(count)\\n       count += 1\\n\\nAnd there are many other predefined keyword and these are :-\\nCertainly! Here’s the list of Python keywords, separated by commas:\\n\\nFalse, None, True, and, as, assert, break, class, continue, def, del, elif, else, except, finally, for, from, global, if, import, in, is, lambda, nonlocal, not, or, pass, raise, return, try, while, with, yield\\n'"
      ]
     },
     "execution_count": 4,
     "metadata": {},
     "output_type": "execute_result"
    }
   ],
   "source": [
    "\"\"\" # ANS -:\n",
    "# In Python, predefined keywords are special words that have specific meanings and cannot be used for anything else, like naming variables. They are part of the language syntax and help define the structure of Python programs. Here’s a look at some of them and how they are used:\n",
    "\n",
    "#1. if : Used to make decisions. If a condition is true, the code inside the `if` block runs.\n",
    "  x = 10\n",
    "  if x > 5:\n",
    "       print(\"x is greater than 5\")\n",
    "\n",
    "\n",
    "#2. else : Used with `if` to run code when the `if` condition is false.\n",
    "  x = 3\n",
    "  if x > 5:\n",
    "       print(\"x is greater than 5\")\n",
    "  else:\n",
    "       print(\"x is not greater than 5\")\n",
    "\n",
    "#3. elif: Short for \"else if\", it allows checking multiple conditions.\n",
    "  x = 10\n",
    "  if x > 15:\n",
    "       print(\"x is greater than 15\")\n",
    "  elif x > 5:\n",
    "       print(\"x is greater than 5 but not greater than 15\")\n",
    "  else:\n",
    "       print(\"x is 5 or less\")\n",
    "\n",
    "#4. for: Used to create loops that iterate over a sequence, like a list or range of numbers.\n",
    "  for i in range(5):\n",
    "      print(i)\n",
    "\n",
    "#5. while: Used to create loops that run as long as a condition is true.\n",
    "  count = 0\n",
    "  while count < 5:\n",
    "       print(count)\n",
    "       count += 1\n",
    "\n",
    "And there are many other predefined keyword and these are :-\n",
    "Certainly! Here’s the list of Python keywords, separated by commas:\n",
    "\n",
    "False, None, True, and, as, assert, break, class, continue, def, del, elif, else, except, finally, for, from, global, if, import, in, is, lambda, nonlocal, not, or, pass, raise, return, try, while, with, yield\n",
    "\"\"\"      "
   ]
  },
  {
   "cell_type": "code",
   "execution_count": 5,
   "id": "03b07855-13da-419c-aa62-ba7dea5d8a6a",
   "metadata": {},
   "outputs": [],
   "source": [
    "# QUS - 3 -: Compare and contrast mutable and immutable objects in Python with examples:"
   ]
  },
  {
   "cell_type": "code",
   "execution_count": 6,
   "id": "556848d3-2ab8-4955-a9a0-6611404d3f43",
   "metadata": {},
   "outputs": [
    {
     "name": "stdout",
     "output_type": "stream",
     "text": [
      "[1, 2, 3, 4]\n",
      "{'a': 1, 'b': 2, 'c': 3}\n",
      "HELLO\n",
      "(1, 2, 3, 4)\n"
     ]
    },
    {
     "data": {
      "text/plain": [
       "\"\\nComparison:\\n\\nMutability: Mutable objects can be changed in place, while immutable objects cannot be changed once created.\\nPerformance: Immutable objects are generally more memory efficient because their state doesn’t change, leading to better performance in some cases.\\nUsage: Mutable objects are useful when you need to modify the object frequently. Immutable objects are useful when you need a reliable, constant value that won't change.\\n\""
      ]
     },
     "execution_count": 6,
     "metadata": {},
     "output_type": "execute_result"
    }
   ],
   "source": [
    "# ANS -: \n",
    "#difference btw mutable and immutable objects\n",
    "\n",
    "#Mutable Objects:\n",
    "\n",
    "#Definition: Objects that can be changed after they are created.\n",
    "\n",
    "#Examples: Lists, dictionaries, and sets.\n",
    "\n",
    "\n",
    "\n",
    "# 1\n",
    "#Example with List (Mutable):\n",
    "my_list = [1, 2, 3]\n",
    "my_list.append(4)  # Modifies the list in place\n",
    "print(my_list)     # Output: [1, 2, 3, 4]\n",
    "\n",
    "\n",
    "#2\n",
    "#Example with Dictionary (Mutable):\n",
    "my_dict = {'a': 1, 'b': 2}\n",
    "my_dict['c'] = 3  # Modifies the dictionary in place\n",
    "print(my_dict)    # Output: {'a': 1, 'b': 2, 'c': 3}\n",
    "\n",
    "\n",
    "#Immutable Objects:\n",
    "\n",
    "\n",
    "#Definition: Objects that cannot be changed after they are created.\n",
    "\n",
    "\n",
    "#Examples: Integers, floats, strings, and tuples.\n",
    "\n",
    "\n",
    "#1\n",
    "#Example with String (Immutable):\n",
    "my_string = \"hello\"\n",
    "new_string = my_string.upper()  # Creates a new string\n",
    "print(new_string)  # Output: \"HELLO\"\n",
    "\n",
    "\n",
    "#2\n",
    "#Example with Tuple (Immutable):\n",
    "my_tuple = (1, 2, 3)\n",
    "new_tuple = my_tuple + (4,)  # Creates a new tuple\n",
    "print(new_tuple)  # Output: (1, 2, 3, 4)\n",
    "\n",
    "'''\n",
    "Comparison:\n",
    "\n",
    "Mutability: Mutable objects can be changed in place, while immutable objects cannot be changed once created.\n",
    "Performance: Immutable objects are generally more memory efficient because their state doesn’t change, leading to better performance in some cases.\n",
    "Usage: Mutable objects are useful when you need to modify the object frequently. Immutable objects are useful when you need a reliable, constant value that won't change.\n",
    "'''"
   ]
  },
  {
   "cell_type": "code",
   "execution_count": 7,
   "id": "8ffe9684-98c4-4f2c-8f9a-8d34ca6eb437",
   "metadata": {},
   "outputs": [],
   "source": [
    "# QUS - 4 -:Discuss the different types of operators in Python and provide examples of how they are used."
   ]
  },
  {
   "cell_type": "code",
   "execution_count": 8,
   "id": "e4f608fc-e2f1-4403-a2ac-a632664bc15c",
   "metadata": {},
   "outputs": [
    {
     "data": {
      "text/plain": [
       "' ANS : - type of operator \\n\\nArithmetic Operators: +, -, *, /, //, %, **\\nComparison Operators: ==, !=, >, <, >=, <=\\nLogical Operators: and, or, not\\nAssignment Operators: =, +=, -=, *=, /=, //=, %=, **=\\nBitwise Operators: &, |, ^, ~, <<, >>\\nMembership Operators: in, not in\\nIdentity Operators: is, is not\\n'"
      ]
     },
     "execution_count": 8,
     "metadata": {},
     "output_type": "execute_result"
    }
   ],
   "source": [
    "''' ANS : - type of operator \n",
    "\n",
    "Arithmetic Operators: +, -, *, /, //, %, **\n",
    "Comparison Operators: ==, !=, >, <, >=, <=\n",
    "Logical Operators: and, or, not\n",
    "Assignment Operators: =, +=, -=, *=, /=, //=, %=, **=\n",
    "Bitwise Operators: &, |, ^, ~, <<, >>\n",
    "Membership Operators: in, not in\n",
    "Identity Operators: is, is not\n",
    "'''"
   ]
  },
  {
   "cell_type": "code",
   "execution_count": 9,
   "id": "578097d5-b07f-4d31-892f-644145f6a2fa",
   "metadata": {},
   "outputs": [],
   "source": [
    "# QUS - 5 -:Explain the concept of type casting in Python with examples"
   ]
  },
  {
   "cell_type": "code",
   "execution_count": 10,
   "id": "b6dcf7cc-38f2-4fcc-8670-0d3eaf7db9fd",
   "metadata": {},
   "outputs": [],
   "source": [
    "# ANS -: \n",
    "#Definition: Type casting, also known as type conversion, is the process of converting a value from one data type to another. This ensures that values are in the correct format for operations or functions.\n",
    "\n",
    "#Examples:\n",
    "\n",
    "\n",
    "# 1 - Converting a String to an Integer:\n",
    "\n",
    "#Question: How can you convert a string that represents a number into an integer?\n",
    "#Answer: Use the int() function to convert the string to an integer. For example:\n",
    "x = \"123\"       # x is a string\n",
    "y = int(x)      # y is now an integer with value 123\n",
    "\n",
    "\n",
    "# 2 - Converting a String to a Float:\n",
    "\n",
    "#Question: How can you convert a string that represents a decimal number into a float?\n",
    "#Answer: Use the float() function to convert the string to a float. For example:\n",
    "x = \"45.67\"     # x is a string\n",
    "y = float(x)    # y is now a float with value 45.67\n",
    "\n",
    "\n",
    "# 3 - Converting a List to a Tuple:\n",
    "\n",
    "#Question: How can you convert a list into a tuple?\n",
    "#Answer: Use the tuple() function to convert the list to a tuple. For example:\n",
    "x = [1, 2, 3]   # x is a list\n",
    "y = tuple(x)    # y is now a tuple with value (1, 2, 3)\n",
    "#These examples illustrate how to convert values between different data types in Python."
   ]
  },
  {
   "cell_type": "code",
   "execution_count": 11,
   "id": "41244302-5810-420c-8c4f-0d64ac9cd6ac",
   "metadata": {},
   "outputs": [],
   "source": [
    "# QUS - 5 -:Explain how conditional statements function in Python, and show with an example"
   ]
  },
  {
   "cell_type": "code",
   "execution_count": 12,
   "id": "6c21ce7f-38fc-4437-801d-5cdcb44adca5",
   "metadata": {},
   "outputs": [
    {
     "name": "stdin",
     "output_type": "stream",
     "text": [
      "Enter your age:  34\n"
     ]
    },
    {
     "name": "stdout",
     "output_type": "stream",
     "text": [
      "You are an adult.\n"
     ]
    }
   ],
   "source": [
    "# ANS\n",
    "\n",
    "#Conditional statements in Python allow us to execute different blocks of code based on certain conditions. we use keywords like if, elif, and else to make decisions in our code.\n",
    "# Let we want to check manoj is child , teen or adult then we use input method first to take his age as input also from this input we make meaningfull insight based on this code\n",
    "\n",
    "# Get user input\n",
    "age = int(input(\"Enter your age: \"))\n",
    "\n",
    "# Conditional statements\n",
    "if age < 13:\n",
    "    print(\"You are a child.\")\n",
    "elif age < 20:\n",
    "    print(\"You are a teenager.\")\n",
    "else:\n",
    "    print(\"You are an adult.\")\n",
    "\n",
    "#In this example:\n",
    "\n",
    "#The input() function prompts the user(manoj) to enter his  age.\n",
    "#The int() function converts the input (which is a string) to an integer.\n",
    "#The if, elif, and else statements then check the age and print a message based on the age range."
   ]
  },
  {
   "cell_type": "code",
   "execution_count": 13,
   "id": "4071bc24-738f-4572-aa21-75a2a4fb1350",
   "metadata": {},
   "outputs": [],
   "source": [
    "# QUS - 5 -:Describe the different types of loops in Python and their use cases with example"
   ]
  },
  {
   "cell_type": "code",
   "execution_count": 14,
   "id": "d4f99de8-d8ac-4109-a36d-304f41f3cdaa",
   "metadata": {},
   "outputs": [
    {
     "name": "stdout",
     "output_type": "stream",
     "text": [
      "0\n",
      "1\n",
      "2\n",
      "0\n",
      "1\n",
      "2\n"
     ]
    }
   ],
   "source": [
    "# ANS\n",
    "\n",
    "# 1 -for Loop:\n",
    "\n",
    "#Description: Repeats a block of code for each item in a sequence (like a list or range).\n",
    "#Use Case: Useful when you know the number of iterations or need to iterate over elements in a sequence.\n",
    "#Example:\n",
    "for i in range(3):\n",
    "    print(i)\n",
    "#This loop prints the numbers 0, 1, and 2.\n",
    "\n",
    "\n",
    "# 2 -while Loop:\n",
    "\n",
    "#Description: Repeats a block of code as long as a specified condition is true.\n",
    "#Use Case: Useful when you don’t know the number of iterations in advance and need to continue looping until a condition changes.\n",
    "#Example:\n",
    "count = 0\n",
    "while count < 3:\n",
    "    print(count)\n",
    "    count += 1\n",
    "#This loop prints the numbers 0, 1, and 2, stopping when count reaches 3."
   ]
  },
  {
   "cell_type": "code",
   "execution_count": null,
   "id": "6cb8c7ef-4ca5-4ca2-b171-afdd8018ef42",
   "metadata": {},
   "outputs": [],
   "source": []
  }
 ],
 "metadata": {
  "kernelspec": {
   "display_name": "Python 3 (ipykernel)",
   "language": "python",
   "name": "python3"
  },
  "language_info": {
   "codemirror_mode": {
    "name": "ipython",
    "version": 3
   },
   "file_extension": ".py",
   "mimetype": "text/x-python",
   "name": "python",
   "nbconvert_exporter": "python",
   "pygments_lexer": "ipython3",
   "version": "3.12.6"
  }
 },
 "nbformat": 4,
 "nbformat_minor": 5
}
